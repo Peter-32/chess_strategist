{
 "cells": [
  {
   "cell_type": "code",
   "execution_count": 26,
   "metadata": {},
   "outputs": [],
   "source": [
    "import pickle\n",
    "from matplotlib import pyplot as plt\n",
    "import sys; import webbrowser; from pandas import read_csv\n",
    "import pyperclip as clip\n",
    "import pyautogui, time; pyautogui.size(); pyautogui.FAILSAFE = True; pyautogui.PAUSE = 0\n",
    "import os\n",
    "from time import sleep\n",
    "from os import listdir\n",
    "from os.path import isfile, join\n",
    "import numpy as np\n",
    "\n",
    "\n",
    "def save_obj(obj, name ):\n",
    "    with open('obj/'+ name + '.pkl', 'wb') as f:\n",
    "        pickle.dump(obj, f, pickle.HIGHEST_PROTOCOL)\n",
    "\n",
    "def load_obj(name ):\n",
    "    with open('obj/' + name + '.pkl', 'rb') as f:\n",
    "        return pickle.load(f)\n",
    "    \n",
    "model = load_obj(\"model\")\n",
    "scaler = load_obj(\"scaler\")\n"
   ]
  },
  {
   "cell_type": "code",
   "execution_count": 23,
   "metadata": {},
   "outputs": [
    {
     "data": {
      "text/plain": [
       "'/Users/petermyers/Desktop/Screen Shot 2020-03-18 at 11.00.33 PM.png'"
      ]
     },
     "execution_count": 23,
     "metadata": {},
     "output_type": "execute_result"
    }
   ],
   "source": [
    "# Delete screenshots\n",
    "mypath = \"/Users/petermyers/Desktop/\"\n",
    "files_to_delete = [f for f in listdir(mypath) if isfile(join(mypath, f)) and \"Screen Shot\" in f]\n",
    "for file in files_to_delete:\n",
    "    os.remove(mypath + file)\n",
    "\n",
    "# Take Screenshot\n",
    "sleep(0.1)\n",
    "pyautogui.hotkey('command', 'shift', '3')\n",
    "\n",
    "# Read Screenshot\n",
    "sleep(0.9)\n",
    "mypath = \"/Users/petermyers/Desktop/\"\n",
    "screenshot_file = mypath + [f for f in listdir(mypath) if isfile(join(mypath, f)) and \"Screen Shot\" in f][0]\n",
    "data = plt.imread(screenshot_file)\n"
   ]
  },
  {
   "cell_type": "code",
   "execution_count": 38,
   "metadata": {},
   "outputs": [
    {
     "data": {
      "image/png": "[encoded data removed]",
      "text/plain": [
       "<Figure size 432x288 with 1 Axes>"
      ]
     },
     "metadata": {
      "needs_background": "light"
     },
     "output_type": "display_data"
    }
   ],
   "source": [
    "i = 0\n",
    "j = 0\n",
    "board = np.zeros([8,8])\n",
    "X = []\n",
    "for i in range(8):\n",
    "    for j in range(8):\n",
    "        cord_x = 477 + 146*i\n",
    "        cord_y = 193 + 146*j\n",
    "        X.append(data[cord_x:cord_x+146,cord_y:cord_y+146,:].flatten())"
   ]
  },
  {
   "cell_type": "code",
   "execution_count": 37,
   "metadata": {},
   "outputs": [
    {
     "data": {
      "text/plain": [
       "(146, 146, 4)"
      ]
     },
     "execution_count": 37,
     "metadata": {},
     "output_type": "execute_result"
    }
   ],
   "source": [
    "temp[0:283, 0:427, :].shape"
   ]
  },
  {
   "cell_type": "code",
   "execution_count": null,
   "metadata": {},
   "outputs": [],
   "source": [
    "from matplotlib import pyplot as plt\n",
    "data = plt.imread(\"/Users/petermyers/Desktop/\")\n",
    "data\n"
   ]
  }
 ],
 "metadata": {
  "kernelspec": {
   "display_name": "commons",
   "language": "python",
   "name": "commons"
  },
  "language_info": {
   "codemirror_mode": {
    "name": "ipython",
    "version": 3
   },
   "file_extension": ".py",
   "mimetype": "text/x-python",
   "name": "python",
   "nbconvert_exporter": "python",
   "pygments_lexer": "ipython3",
   "version": "3.6.5"
  },
  "toc": {
   "base_numbering": 1,
   "nav_menu": {},
   "number_sections": true,
   "sideBar": true,
   "skip_h1_title": false,
   "title_cell": "Table of Contents",
   "title_sidebar": "Contents",
   "toc_cell": false,
   "toc_position": {},
   "toc_section_display": true,
   "toc_window_display": false
  }
 },
 "nbformat": 4,
 "nbformat_minor": 2
}
