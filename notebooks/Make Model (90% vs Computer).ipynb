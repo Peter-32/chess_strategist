{
 "cells": [
  {
   "cell_type": "code",
   "execution_count": 1,
   "metadata": {},
   "outputs": [],
   "source": [
    "from matplotlib import pyplot as plt\n",
    "import numpy as np\n",
    "from sklearn.preprocessing import StandardScaler\n",
    "import pandas as pd\n",
    "data = plt.imread(\"../data/raw/90pct_size_vs_computer.png\")\n",
    "i = 0\n",
    "j = 0\n",
    "X = []\n",
    "y = np.zeros([64,3])\n",
    "record = 0\n",
    "for i in range(8):\n",
    "    for j in range(8):\n",
    "        cord_x = 478 + 134*i\n",
    "        cord_y = 140 + 134*j\n",
    "        # White Pawn\n",
    "        if i == 6:\n",
    "            y[record, 0] = 1\n",
    "        # Black Pawn\n",
    "        elif i == 1:\n",
    "            y[record, 1] = 1\n",
    "        else:\n",
    "            y[record, 2] = 1\n",
    "        X.append(data[cord_x:cord_x+134,cord_y:cord_y+132,:].flatten())\n",
    "        record += 1\n",
    "        plt.imshow(data[cord_x:cord_x+134,cord_y:cord_y+132,:])\n",
    "        plt.savefig('../data/interim/{}_{}.png'.format(i,j))\n",
    "        break\n",
    "    break"
   ]
  },
  {
   "cell_type": "code",
   "execution_count": null,
   "metadata": {},
   "outputs": [],
   "source": [
    "\n",
    "X = pd.DataFrame(X).values\n",
    "scaler = StandardScaler().fit(X)\n",
    "rescaledX = scaler.transform(X)\n",
    "from sklearn.neighbors import KNeighborsClassifier\n",
    "model = KNeighborsClassifier(1)\n",
    "model.fit(rescaledX, y)\n",
    "\n",
    "import pickle\n",
    "def save_obj(obj, name ):\n",
    "    with open('../models/'+ name + '.pkl', 'wb') as f:\n",
    "        pickle.dump(obj, f, pickle.HIGHEST_PROTOCOL)\n",
    "\n",
    "def load_obj(name ):\n",
    "    with open('../models/' + name + '.pkl', 'rb') as f:\n",
    "        return pickle.load(f)\n",
    "\n",
    "save_obj(model, \"model\")\n",
    "save_obj(scaler, \"scaler\")\n",
    "prediction = model.predict(rescaledX)\n",
    "prediction\n"
   ]
  },
  {
   "cell_type": "code",
   "execution_count": null,
   "metadata": {},
   "outputs": [],
   "source": []
  }
 ],
 "metadata": {
  "kernelspec": {
   "display_name": "commons",
   "language": "python",
   "name": "commons"
  },
  "language_info": {
   "codemirror_mode": {
    "name": "ipython",
    "version": 3
   },
   "file_extension": ".py",
   "mimetype": "text/x-python",
   "name": "python",
   "nbconvert_exporter": "python",
   "pygments_lexer": "ipython3",
   "version": "3.6.5"
  },
  "toc": {
   "base_numbering": 1,
   "nav_menu": {},
   "number_sections": true,
   "sideBar": true,
   "skip_h1_title": false,
   "title_cell": "Table of Contents",
   "title_sidebar": "Contents",
   "toc_cell": false,
   "toc_position": {},
   "toc_section_display": true,
   "toc_window_display": false
  }
 },
 "nbformat": 4,
 "nbformat_minor": 2
}
